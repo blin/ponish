{
 "cells": [
  {
   "cell_type": "code",
   "execution_count": null,
   "metadata": {},
   "outputs": [
    {
     "data": {
      "text/html": [
       "<svg width=\"140\" height=\"80\" style=\"fill:none; stroke-linecap:round;\">\n",
       "    <rect width=\"100%\" height=\"100%\" fill=\"#F3F3F7\" />\n",
       "\n",
       "\n",
       "<path stroke=\"#663399\" stroke-width=\"2\" d=\"M 70,40\" />'\n",
       "\n",
       "<path stroke=\"#663399\" stroke-width=\"2\" d=\"M 35,20 35,70 10,70\" />'\n",
       "\n",
       "<path stroke=\"#663399\" stroke-width=\"2\" d=\"M 51.7,70\" />'\n",
       "\n",
       "<path stroke=\"#663399\" stroke-width=\"2\" d=\"M 51.7,20 70.8,66.2 89.9,20\" />'\n",
       "\n",
       "<path stroke=\"#663399\" stroke-width=\"2\" d=\"M 106.6,70\" />'\n",
       "\n",
       "<path stroke=\"#663399\" stroke-width=\"2\" d=\"M 106.6,20 106.6,70 131.6,70\" />'\n",
       "\n",
       "</svg>"
      ],
      "text/plain": [
       "<IPython.core.display.HTML object>"
      ]
     },
     "metadata": {},
     "output_type": "display_data"
    },
    {
     "data": {
      "text/html": [
       "<svg width=\"140\" height=\"80\" style=\"fill:none; stroke-linecap:round;\">\n",
       "    <rect width=\"100%\" height=\"100%\" fill=\"#F3F3F7\" />\n",
       "\n",
       "\n",
       "<path stroke=\"#663399\" stroke-width=\"2\" d=\"M 70,40\" />'\n",
       "\n",
       "<path stroke=\"#663399\" stroke-width=\"2\" d=\"M 35,20 35,70 10,70\" />'\n",
       "\n",
       "<path stroke=\"#663399\" stroke-width=\"2\" d=\"M 51.7,70\" />'\n",
       "\n",
       "<path stroke=\"#663399\" stroke-width=\"2\" d=\"M 51.7,20 76.4,44.7 51.7,69.5\" />'\n",
       "\n",
       "<path stroke=\"#663399\" stroke-width=\"2\" d=\"M 93.1,70\" />'\n",
       "\n",
       "<path stroke=\"#663399\" stroke-width=\"2\" d=\"M 93.1,20 93.1,70 118.1,70\" />'\n",
       "\n",
       "</svg>"
      ],
      "text/plain": [
       "<IPython.core.display.HTML object>"
      ]
     },
     "metadata": {},
     "output_type": "display_data"
    }
   ],
   "source": [
    "# %%\n",
    "import importlib\n",
    "\n",
    "from jupyturtle.jupyturtle import Drawing, Turtle\n",
    "\n",
    "import draw\n",
    "import glyphs\n",
    "\n",
    "importlib.reload(glyphs)\n",
    "importlib.reload(draw)\n",
    "# https://github.com/ipython/ipython/issues/12399\n",
    "# reloading draw first, then glyphs results in isinstance checks being broken\n",
    "\n",
    "from draw import (\n",
    "    Page,\n",
    "    advance_after_glyph,\n",
    "    draw_glyph,\n",
    ")\n",
    "from glyphs import (\n",
    "    VowelPosition,\n",
    "    characters,\n",
    "    chars_with_curves,\n",
    ")\n",
    "\n",
    "i = 3\n",
    "for g in characters:\n",
    "    drawing = Drawing(width=140, height=80)\n",
    "    p = Page(unit_size_px=50, current_line_bottom_px=70, current_line_left_px=10)\n",
    "    t = Turtle(delay=0.00, drawing=drawing)\n",
    "    draw_glyph(t, p, characters[\"J\"], pos=VowelPosition.OU)\n",
    "    advance_after_glyph(t, p, g)\n",
    "    draw_glyph(t, p, g, pos=VowelPosition.OU)\n",
    "    advance_after_glyph(t, p, g)\n",
    "    draw_glyph(t, p, characters[\"I\"], pos=VowelPosition.OU)\n",
    "    t.hide()"
   ]
  }
 ],
 "metadata": {
  "kernelspec": {
   "display_name": ".venv",
   "language": "python",
   "name": "python3"
  },
  "language_info": {
   "codemirror_mode": {
    "name": "ipython",
    "version": 3
   },
   "file_extension": ".py",
   "mimetype": "text/x-python",
   "name": "python",
   "nbconvert_exporter": "python",
   "pygments_lexer": "ipython3",
   "version": "3.12.9"
  }
 },
 "nbformat": 4,
 "nbformat_minor": 2
}
