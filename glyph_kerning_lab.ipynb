{
 "cells": [
  {
   "cell_type": "code",
   "execution_count": 3,
   "metadata": {},
   "outputs": [
    {
     "data": {
      "text/html": [
       "<svg width=\"80\" height=\"40\" style=\"fill:none; stroke-linecap:round;\">\n",
       "    <rect width=\"100%\" height=\"100%\" fill=\"#F3F3F7\" />\n",
       "\n",
       "\n",
       "<path stroke=\"#663399\" stroke-width=\"2\" d=\"M 40,20\" />'\n",
       "\n",
       "<path stroke=\"#663399\" stroke-width=\"2\" d=\"M 10,30 17.7,11.5 25.3,30\" />'\n",
       "\n",
       "<path stroke=\"#663399\" stroke-width=\"2\" d=\"M 35.3,30\" />'\n",
       "\n",
       "<path stroke=\"#663399\" stroke-width=\"2\" d=\"M 35.3,10 35.3,30 45.3,30\" />'\n",
       "\n",
       "</svg>"
      ],
      "text/plain": [
       "<IPython.core.display.HTML object>"
      ]
     },
     "metadata": {},
     "output_type": "display_data"
    },
    {
     "data": {
      "text/html": [
       "<svg width=\"80\" height=\"40\" style=\"fill:none; stroke-linecap:round;\">\n",
       "    <rect width=\"100%\" height=\"100%\" fill=\"#F3F3F7\" />\n",
       "\n",
       "\n",
       "<path stroke=\"#663399\" stroke-width=\"2\" d=\"M 40,20\" />'\n",
       "\n",
       "<path stroke=\"#663399\" stroke-width=\"2\" d=\"M 10,30 17.7,11.5 25.3,30\" />'\n",
       "\n",
       "<path stroke=\"#663399\" stroke-width=\"2\" d=\"M 35.3,30\" />'\n",
       "\n",
       "<path stroke=\"#663399\" stroke-width=\"2\" d=\"M 35.3,10 35.3,30 45.3,30\" />'\n",
       "\n",
       "</svg>"
      ],
      "text/plain": [
       "<IPython.core.display.HTML object>"
      ]
     },
     "metadata": {},
     "output_type": "display_data"
    },
    {
     "data": {
      "text/html": [
       "<svg width=\"80\" height=\"40\" style=\"fill:none; stroke-linecap:round;\">\n",
       "    <rect width=\"100%\" height=\"100%\" fill=\"#F3F3F7\" />\n",
       "\n",
       "\n",
       "<path stroke=\"#663399\" stroke-width=\"2\" d=\"M 40,20\" />'\n",
       "\n",
       "<path stroke=\"#663399\" stroke-width=\"2\" d=\"M 10,30 17.7,11.5\" />'\n",
       "\n",
       "<path stroke=\"#663399\" stroke-width=\"2\" d=\"M 27.7,30\" />'\n",
       "\n",
       "<path stroke=\"#663399\" stroke-width=\"2\" d=\"M 27.7,10 27.7,30 37.7,30\" />'\n",
       "\n",
       "</svg>"
      ],
      "text/plain": [
       "<IPython.core.display.HTML object>"
      ]
     },
     "metadata": {},
     "output_type": "display_data"
    },
    {
     "data": {
      "text/html": [
       "<svg width=\"80\" height=\"40\" style=\"fill:none; stroke-linecap:round;\">\n",
       "    <rect width=\"100%\" height=\"100%\" fill=\"#F3F3F7\" />\n",
       "\n",
       "\n",
       "<path stroke=\"#663399\" stroke-width=\"2\" d=\"M 40,20\" />'\n",
       "\n",
       "<path stroke=\"#663399\" stroke-width=\"2\" d=\"M 10,10 10,30\" />'\n",
       "\n",
       "<path stroke=\"#663399\" stroke-width=\"2\" d=\"M 20,30\" />'\n",
       "\n",
       "<path stroke=\"#663399\" stroke-width=\"2\" d=\"M 20,10 20,30 30,30\" />'\n",
       "\n",
       "</svg>"
      ],
      "text/plain": [
       "<IPython.core.display.HTML object>"
      ]
     },
     "metadata": {},
     "output_type": "display_data"
    },
    {
     "data": {
      "text/html": [
       "<svg width=\"80\" height=\"40\" style=\"fill:none; stroke-linecap:round;\">\n",
       "    <rect width=\"100%\" height=\"100%\" fill=\"#F3F3F7\" />\n",
       "\n",
       "\n",
       "<path stroke=\"#663399\" stroke-width=\"2\" d=\"M 40,20\" />'\n",
       "\n",
       "<path stroke=\"#663399\" stroke-width=\"2\" d=\"M 15,10 10,10 10,30\" />'\n",
       "\n",
       "<path stroke=\"#663399\" stroke-width=\"2\" d=\"M 20,30\" />'\n",
       "\n",
       "<path stroke=\"#663399\" stroke-width=\"2\" d=\"M 20,10 20,30 30,30\" />'\n",
       "\n",
       "</svg>"
      ],
      "text/plain": [
       "<IPython.core.display.HTML object>"
      ]
     },
     "metadata": {},
     "output_type": "display_data"
    }
   ],
   "source": [
    "# %%\n",
    "from jupyturtle.jupyturtle import Drawing, Turtle\n",
    "import importlib\n",
    "import draw\n",
    "import glyphs\n",
    "importlib.reload(glyphs)\n",
    "importlib.reload(draw)\n",
    "# https://github.com/ipython/ipython/issues/12399\n",
    "# reloading draw first, then glyphs results in isinstance checks being broken\n",
    "\n",
    "from draw import (\n",
    "    Page,\n",
    "    draw_glyph,\n",
    ")\n",
    "\n",
    "from glyphs import (\n",
    "    Glyph,\n",
    "    characters,\n",
    "    VowelPosition,\n",
    ")\n",
    "\n",
    "def advance_after_glyph(t: Turtle, page: Page, g: Glyph) -> None:\n",
    "    t.pen_up()\n",
    "    page.current_line_left_px = t.x + (p.unit_size_px * g.advance_pos.rel_x)\n",
    "    t.jump_to(y=page.current_line_bottom_px, x=page.current_line_left_px)\n",
    "    t.pen_down()\n",
    "\n",
    "def advance_word(t: Turtle, page: Page, g: Glyph) -> None:\n",
    "    t.pen_up()\n",
    "    page.current_line_left_px = t.x + g.advance_pos.rel_x\n",
    "    t.jump_to(y=page.current_line_bottom_px, x=page.current_line_left_px)\n",
    "    t.pen_down()\n",
    "\n",
    "i=0\n",
    "for g in list(characters.values())[i*5:(i+1)*5]:\n",
    "    drawing = Drawing(width=80, height=40)\n",
    "    p = Page(unit_size_px=20, current_line_bottom_px=30, current_line_left_px=10)\n",
    "    t = Turtle(delay=0.00, drawing=drawing)\n",
    "    draw_glyph(t, p, g, pos=VowelPosition.OU)\n",
    "    advance_after_glyph(t, p, g)\n",
    "    draw_glyph(t, p, characters[\"I\"], pos=VowelPosition.OU)\n",
    "    t.hide()\n",
    "\n"
   ]
  }
 ],
 "metadata": {
  "kernelspec": {
   "display_name": ".venv",
   "language": "python",
   "name": "python3"
  },
  "language_info": {
   "codemirror_mode": {
    "name": "ipython",
    "version": 3
   },
   "file_extension": ".py",
   "mimetype": "text/x-python",
   "name": "python",
   "nbconvert_exporter": "python",
   "pygments_lexer": "ipython3",
   "version": "3.12.9"
  }
 },
 "nbformat": 4,
 "nbformat_minor": 2
}
