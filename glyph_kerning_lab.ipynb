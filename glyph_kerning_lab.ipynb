{
 "cells": [
  {
   "cell_type": "code",
   "execution_count": 9,
   "metadata": {},
   "outputs": [
    {
     "data": {
      "text/html": [
       "<svg width=\"140\" height=\"80\" style=\"fill:none; stroke-linecap:round;\">\n",
       "    <rect width=\"100%\" height=\"100%\" fill=\"#F3F3F7\" />\n",
       "\n",
       "\n",
       "<path stroke=\"#DDDDDD\" stroke-width=\"2\" d=\"M 70,40\" />'\n",
       "\n",
       "<path stroke=\"#DDDDDD\" stroke-width=\"2\" d=\"M 0,70 1000,70\" />'\n",
       "\n",
       "<path stroke=\"#DDDDDD\" stroke-width=\"2\" d=\"M 0,50 1000,50\" />'\n",
       "\n",
       "<path stroke=\"#DDDDDD\" stroke-width=\"2\" d=\"M 0,30 1000,30\" />'\n",
       "\n",
       "<path stroke=\"#DDDDDD\" stroke-width=\"2\" d=\"M 0,10 1000,10\" />'\n",
       "\n",
       "<path stroke=\"#663399\" stroke-width=\"2\" d=\"M 1000,10\" />'\n",
       "\n",
       "<path stroke=\"#663399\" stroke-width=\"2\" d=\"M 30,30 30,70 10,70\" />'\n",
       "\n",
       "<path stroke=\"#663399\" stroke-width=\"2\" d=\"M 36.7,70\" />'\n",
       "\n",
       "<path stroke=\"#663399\" stroke-width=\"2\" d=\"M 36.7,70 52,33 67.3,70\" />'\n",
       "\n",
       "<path stroke=\"#663399\" stroke-width=\"2\" d=\"M 73.9,70\" />'\n",
       "\n",
       "<path stroke=\"#663399\" stroke-width=\"2\" d=\"M 73.9,30 73.9,70 93.9,70\" />'\n",
       "\n",
       "</svg>"
      ],
      "text/plain": [
       "<IPython.core.display.HTML object>"
      ]
     },
     "metadata": {},
     "output_type": "display_data"
    },
    {
     "name": "stdout",
     "output_type": "stream",
     "text": [
      "y=70\n",
      "y=50\n",
      "y=30\n",
      "y=10\n"
     ]
    },
    {
     "data": {
      "text/html": [
       "<svg width=\"140\" height=\"80\" style=\"fill:none; stroke-linecap:round;\">\n",
       "    <rect width=\"100%\" height=\"100%\" fill=\"#F3F3F7\" />\n",
       "\n",
       "\n",
       "<path stroke=\"#DDDDDD\" stroke-width=\"2\" d=\"M 70,40\" />'\n",
       "\n",
       "<path stroke=\"#DDDDDD\" stroke-width=\"2\" d=\"M 0,70 1000,70\" />'\n",
       "\n",
       "<path stroke=\"#DDDDDD\" stroke-width=\"2\" d=\"M 0,50 1000,50\" />'\n",
       "\n",
       "<path stroke=\"#DDDDDD\" stroke-width=\"2\" d=\"M 0,30 1000,30\" />'\n",
       "\n",
       "<path stroke=\"#DDDDDD\" stroke-width=\"2\" d=\"M 0,10 1000,10\" />'\n",
       "\n",
       "<path stroke=\"#663399\" stroke-width=\"2\" d=\"M 1000,10\" />'\n",
       "\n",
       "<path stroke=\"#663399\" stroke-width=\"2\" d=\"M 30,30 30,70 10,70\" />'\n",
       "\n",
       "<path stroke=\"#663399\" stroke-width=\"2\" d=\"M 36.7,70\" />'\n",
       "\n",
       "<path stroke=\"#663399\" stroke-width=\"2\" d=\"M 36.7,70 52,33 67.3,70\" />'\n",
       "\n",
       "<path stroke=\"#663399\" stroke-width=\"2\" d=\"M 73.9,70\" />'\n",
       "\n",
       "<path stroke=\"#663399\" stroke-width=\"2\" d=\"M 73.9,30 73.9,70 93.9,70\" />'\n",
       "\n",
       "</svg>"
      ],
      "text/plain": [
       "<IPython.core.display.HTML object>"
      ]
     },
     "metadata": {},
     "output_type": "display_data"
    },
    {
     "name": "stdout",
     "output_type": "stream",
     "text": [
      "y=70\n",
      "y=50\n",
      "y=30\n",
      "y=10\n"
     ]
    },
    {
     "data": {
      "text/html": [
       "<svg width=\"140\" height=\"80\" style=\"fill:none; stroke-linecap:round;\">\n",
       "    <rect width=\"100%\" height=\"100%\" fill=\"#F3F3F7\" />\n",
       "\n",
       "\n",
       "<path stroke=\"#DDDDDD\" stroke-width=\"2\" d=\"M 70,40\" />'\n",
       "\n",
       "<path stroke=\"#DDDDDD\" stroke-width=\"2\" d=\"M 0,70 1000,70\" />'\n",
       "\n",
       "<path stroke=\"#DDDDDD\" stroke-width=\"2\" d=\"M 0,50 1000,50\" />'\n",
       "\n",
       "<path stroke=\"#DDDDDD\" stroke-width=\"2\" d=\"M 0,30 1000,30\" />'\n",
       "\n",
       "<path stroke=\"#DDDDDD\" stroke-width=\"2\" d=\"M 0,10 1000,10\" />'\n",
       "\n",
       "<path stroke=\"#663399\" stroke-width=\"2\" d=\"M 1000,10\" />'\n",
       "\n",
       "<path stroke=\"#663399\" stroke-width=\"2\" d=\"M 30,30 30,70 10,70\" />'\n",
       "\n",
       "<path stroke=\"#663399\" stroke-width=\"2\" d=\"M 36.7,70\" />'\n",
       "\n",
       "<path stroke=\"#663399\" stroke-width=\"2\" d=\"M 36.7,70 52,33\" />'\n",
       "\n",
       "<path stroke=\"#663399\" stroke-width=\"2\" d=\"M 58.6,70\" />'\n",
       "\n",
       "<path stroke=\"#663399\" stroke-width=\"2\" d=\"M 58.6,30 58.6,70 78.6,70\" />'\n",
       "\n",
       "</svg>"
      ],
      "text/plain": [
       "<IPython.core.display.HTML object>"
      ]
     },
     "metadata": {},
     "output_type": "display_data"
    },
    {
     "name": "stdout",
     "output_type": "stream",
     "text": [
      "y=70\n",
      "y=50\n",
      "y=30\n",
      "y=10\n"
     ]
    },
    {
     "data": {
      "text/html": [
       "<svg width=\"140\" height=\"80\" style=\"fill:none; stroke-linecap:round;\">\n",
       "    <rect width=\"100%\" height=\"100%\" fill=\"#F3F3F7\" />\n",
       "\n",
       "\n",
       "<path stroke=\"#DDDDDD\" stroke-width=\"2\" d=\"M 70,40\" />'\n",
       "\n",
       "<path stroke=\"#DDDDDD\" stroke-width=\"2\" d=\"M 0,70 1000,70\" />'\n",
       "\n",
       "<path stroke=\"#DDDDDD\" stroke-width=\"2\" d=\"M 0,50 1000,50\" />'\n",
       "\n",
       "<path stroke=\"#DDDDDD\" stroke-width=\"2\" d=\"M 0,30 1000,30\" />'\n",
       "\n",
       "<path stroke=\"#DDDDDD\" stroke-width=\"2\" d=\"M 0,10 1000,10\" />'\n",
       "\n",
       "<path stroke=\"#663399\" stroke-width=\"2\" d=\"M 1000,10\" />'\n",
       "\n",
       "<path stroke=\"#663399\" stroke-width=\"2\" d=\"M 30,30 30,70 10,70\" />'\n",
       "\n",
       "<path stroke=\"#663399\" stroke-width=\"2\" d=\"M 36.7,70\" />'\n",
       "\n",
       "<path stroke=\"#663399\" stroke-width=\"2\" d=\"M 36.7,30 36.7,70\" />'\n",
       "\n",
       "<path stroke=\"#663399\" stroke-width=\"2\" d=\"M 43.3,70\" />'\n",
       "\n",
       "<path stroke=\"#663399\" stroke-width=\"2\" d=\"M 43.3,30 43.3,70 63.3,70\" />'\n",
       "\n",
       "</svg>"
      ],
      "text/plain": [
       "<IPython.core.display.HTML object>"
      ]
     },
     "metadata": {},
     "output_type": "display_data"
    },
    {
     "name": "stdout",
     "output_type": "stream",
     "text": [
      "y=70\n",
      "y=50\n",
      "y=30\n",
      "y=10\n"
     ]
    },
    {
     "data": {
      "text/html": [
       "<svg width=\"140\" height=\"80\" style=\"fill:none; stroke-linecap:round;\">\n",
       "    <rect width=\"100%\" height=\"100%\" fill=\"#F3F3F7\" />\n",
       "\n",
       "\n",
       "<path stroke=\"#DDDDDD\" stroke-width=\"2\" d=\"M 70,40\" />'\n",
       "\n",
       "<path stroke=\"#DDDDDD\" stroke-width=\"2\" d=\"M 0,70 1000,70\" />'\n",
       "\n",
       "<path stroke=\"#DDDDDD\" stroke-width=\"2\" d=\"M 0,50 1000,50\" />'\n",
       "\n",
       "<path stroke=\"#DDDDDD\" stroke-width=\"2\" d=\"M 0,30 1000,30\" />'\n",
       "\n",
       "<path stroke=\"#DDDDDD\" stroke-width=\"2\" d=\"M 0,10 1000,10\" />'\n",
       "\n",
       "<path stroke=\"#663399\" stroke-width=\"2\" d=\"M 1000,10\" />'\n",
       "\n",
       "<path stroke=\"#663399\" stroke-width=\"2\" d=\"M 30,30 30,70 10,70\" />'\n",
       "\n",
       "<path stroke=\"#663399\" stroke-width=\"2\" d=\"M 36.7,70\" />'\n",
       "\n",
       "<path stroke=\"#663399\" stroke-width=\"2\" d=\"M 46.7,30 36.7,30 36.7,70\" />'\n",
       "\n",
       "<path stroke=\"#663399\" stroke-width=\"2\" d=\"M 53.3,70\" />'\n",
       "\n",
       "<path stroke=\"#663399\" stroke-width=\"2\" d=\"M 53.3,30 53.3,70 73.3,70\" />'\n",
       "\n",
       "</svg>"
      ],
      "text/plain": [
       "<IPython.core.display.HTML object>"
      ]
     },
     "metadata": {},
     "output_type": "display_data"
    },
    {
     "name": "stdout",
     "output_type": "stream",
     "text": [
      "y=70\n",
      "y=50\n",
      "y=30\n",
      "y=10\n"
     ]
    },
    {
     "data": {
      "text/html": [
       "<svg width=\"140\" height=\"80\" style=\"fill:none; stroke-linecap:round;\">\n",
       "    <rect width=\"100%\" height=\"100%\" fill=\"#F3F3F7\" />\n",
       "\n",
       "\n",
       "<path stroke=\"#DDDDDD\" stroke-width=\"2\" d=\"M 70,40\" />'\n",
       "\n",
       "<path stroke=\"#DDDDDD\" stroke-width=\"2\" d=\"M 0,70 1000,70\" />'\n",
       "\n",
       "<path stroke=\"#DDDDDD\" stroke-width=\"2\" d=\"M 0,50 1000,50\" />'\n",
       "\n",
       "<path stroke=\"#DDDDDD\" stroke-width=\"2\" d=\"M 0,30 1000,30\" />'\n",
       "\n",
       "<path stroke=\"#DDDDDD\" stroke-width=\"2\" d=\"M 0,10 1000,10\" />'\n",
       "\n",
       "<path stroke=\"#663399\" stroke-width=\"2\" d=\"M 1000,10\" />'\n",
       "\n",
       "<path stroke=\"#663399\" stroke-width=\"2\" d=\"M 30,30 30,70 10,70\" />'\n",
       "\n",
       "<path stroke=\"#663399\" stroke-width=\"2\" d=\"M 36.7,70\" />'\n",
       "\n",
       "<path stroke=\"#663399\" stroke-width=\"2\" d=\"M 36.7,30 46.7,30 46.7,70\" />'\n",
       "\n",
       "<path stroke=\"#663399\" stroke-width=\"2\" d=\"M 53.3,70\" />'\n",
       "\n",
       "<path stroke=\"#663399\" stroke-width=\"2\" d=\"M 53.3,30 53.3,70 73.3,70\" />'\n",
       "\n",
       "</svg>"
      ],
      "text/plain": [
       "<IPython.core.display.HTML object>"
      ]
     },
     "metadata": {},
     "output_type": "display_data"
    },
    {
     "name": "stdout",
     "output_type": "stream",
     "text": [
      "y=70\n",
      "y=50\n",
      "y=30\n",
      "y=10\n"
     ]
    },
    {
     "data": {
      "text/html": [
       "<svg width=\"140\" height=\"80\" style=\"fill:none; stroke-linecap:round;\">\n",
       "    <rect width=\"100%\" height=\"100%\" fill=\"#F3F3F7\" />\n",
       "\n",
       "\n",
       "<path stroke=\"#DDDDDD\" stroke-width=\"2\" d=\"M 70,40\" />'\n",
       "\n",
       "<path stroke=\"#DDDDDD\" stroke-width=\"2\" d=\"M 0,70 1000,70\" />'\n",
       "\n",
       "<path stroke=\"#DDDDDD\" stroke-width=\"2\" d=\"M 0,50 1000,50\" />'\n",
       "\n",
       "<path stroke=\"#DDDDDD\" stroke-width=\"2\" d=\"M 0,30 1000,30\" />'\n",
       "\n",
       "<path stroke=\"#DDDDDD\" stroke-width=\"2\" d=\"M 0,10 1000,10\" />'\n",
       "\n",
       "<path stroke=\"#663399\" stroke-width=\"2\" d=\"M 1000,10\" />'\n",
       "\n",
       "<path stroke=\"#663399\" stroke-width=\"2\" d=\"M 30,30 30,70 10,70\" />'\n",
       "\n",
       "<path stroke=\"#663399\" stroke-width=\"2\" d=\"M 36.7,70\" />'\n",
       "\n",
       "<path stroke=\"#663399\" stroke-width=\"2\" d=\"M 52.7,30 32.9,49.8 52.7,69.6\" />'\n",
       "\n",
       "<path stroke=\"#663399\" stroke-width=\"2\" d=\"M 59.3,70\" />'\n",
       "\n",
       "<path stroke=\"#663399\" stroke-width=\"2\" d=\"M 59.3,30 59.3,70 79.3,70\" />'\n",
       "\n",
       "</svg>"
      ],
      "text/plain": [
       "<IPython.core.display.HTML object>"
      ]
     },
     "metadata": {},
     "output_type": "display_data"
    },
    {
     "name": "stdout",
     "output_type": "stream",
     "text": [
      "y=70\n",
      "y=50\n",
      "y=30\n",
      "y=10\n"
     ]
    },
    {
     "data": {
      "text/html": [
       "<svg width=\"140\" height=\"80\" style=\"fill:none; stroke-linecap:round;\">\n",
       "    <rect width=\"100%\" height=\"100%\" fill=\"#F3F3F7\" />\n",
       "\n",
       "\n",
       "<path stroke=\"#DDDDDD\" stroke-width=\"2\" d=\"M 70,40\" />'\n",
       "\n",
       "<path stroke=\"#DDDDDD\" stroke-width=\"2\" d=\"M 0,70 1000,70\" />'\n",
       "\n",
       "<path stroke=\"#DDDDDD\" stroke-width=\"2\" d=\"M 0,50 1000,50\" />'\n",
       "\n",
       "<path stroke=\"#DDDDDD\" stroke-width=\"2\" d=\"M 0,30 1000,30\" />'\n",
       "\n",
       "<path stroke=\"#DDDDDD\" stroke-width=\"2\" d=\"M 0,10 1000,10\" />'\n",
       "\n",
       "<path stroke=\"#663399\" stroke-width=\"2\" d=\"M 1000,10\" />'\n",
       "\n",
       "<path stroke=\"#663399\" stroke-width=\"2\" d=\"M 30,30 30,70 10,70\" />'\n",
       "\n",
       "<path stroke=\"#663399\" stroke-width=\"2\" d=\"M 36.7,70\" />'\n",
       "\n",
       "<path stroke=\"#663399\" stroke-width=\"2\" d=\"M 36.7,30 36.7,70 56.7,70\" />'\n",
       "\n",
       "<path stroke=\"#663399\" stroke-width=\"2\" d=\"M 63.3,70\" />'\n",
       "\n",
       "<path stroke=\"#663399\" stroke-width=\"2\" d=\"M 63.3,30 63.3,70 83.3,70\" />'\n",
       "\n",
       "</svg>"
      ],
      "text/plain": [
       "<IPython.core.display.HTML object>"
      ]
     },
     "metadata": {},
     "output_type": "display_data"
    },
    {
     "name": "stdout",
     "output_type": "stream",
     "text": [
      "y=70\n",
      "y=50\n",
      "y=30\n",
      "y=10\n"
     ]
    },
    {
     "data": {
      "text/html": [
       "<svg width=\"140\" height=\"80\" style=\"fill:none; stroke-linecap:round;\">\n",
       "    <rect width=\"100%\" height=\"100%\" fill=\"#F3F3F7\" />\n",
       "\n",
       "\n",
       "<path stroke=\"#DDDDDD\" stroke-width=\"2\" d=\"M 70,40\" />'\n",
       "\n",
       "<path stroke=\"#DDDDDD\" stroke-width=\"2\" d=\"M 0,70 1000,70\" />'\n",
       "\n",
       "<path stroke=\"#DDDDDD\" stroke-width=\"2\" d=\"M 0,50 1000,50\" />'\n",
       "\n",
       "<path stroke=\"#DDDDDD\" stroke-width=\"2\" d=\"M 0,30 1000,30\" />'\n",
       "\n",
       "<path stroke=\"#DDDDDD\" stroke-width=\"2\" d=\"M 0,10 1000,10\" />'\n",
       "\n",
       "<path stroke=\"#663399\" stroke-width=\"2\" d=\"M 1000,10\" />'\n",
       "\n",
       "<path stroke=\"#663399\" stroke-width=\"2\" d=\"M 30,30 30,70 10,70\" />'\n",
       "\n",
       "<path stroke=\"#663399\" stroke-width=\"2\" d=\"M 36.7,70\" />'\n",
       "\n",
       "<path stroke=\"#663399\" stroke-width=\"2\" d=\"M 56.7,30 56.7,70 36.7,70\" />'\n",
       "\n",
       "<path stroke=\"#663399\" stroke-width=\"2\" d=\"M 63.3,70\" />'\n",
       "\n",
       "<path stroke=\"#663399\" stroke-width=\"2\" d=\"M 63.3,30 63.3,70 83.3,70\" />'\n",
       "\n",
       "</svg>"
      ],
      "text/plain": [
       "<IPython.core.display.HTML object>"
      ]
     },
     "metadata": {},
     "output_type": "display_data"
    },
    {
     "name": "stdout",
     "output_type": "stream",
     "text": [
      "y=70\n",
      "y=50\n",
      "y=30\n",
      "y=10\n"
     ]
    },
    {
     "data": {
      "text/html": [
       "<svg width=\"140\" height=\"80\" style=\"fill:none; stroke-linecap:round;\">\n",
       "    <rect width=\"100%\" height=\"100%\" fill=\"#F3F3F7\" />\n",
       "\n",
       "\n",
       "<path stroke=\"#DDDDDD\" stroke-width=\"2\" d=\"M 70,40\" />'\n",
       "\n",
       "<path stroke=\"#DDDDDD\" stroke-width=\"2\" d=\"M 0,70 1000,70\" />'\n",
       "\n",
       "<path stroke=\"#DDDDDD\" stroke-width=\"2\" d=\"M 0,50 1000,50\" />'\n",
       "\n",
       "<path stroke=\"#DDDDDD\" stroke-width=\"2\" d=\"M 0,30 1000,30\" />'\n",
       "\n",
       "<path stroke=\"#DDDDDD\" stroke-width=\"2\" d=\"M 0,10 1000,10\" />'\n",
       "\n",
       "<path stroke=\"#663399\" stroke-width=\"2\" d=\"M 1000,10\" />'\n",
       "\n",
       "<path stroke=\"#663399\" stroke-width=\"2\" d=\"M 30,30 30,70 10,70\" />'\n",
       "\n",
       "<path stroke=\"#663399\" stroke-width=\"2\" d=\"M 36.7,70\" />'\n",
       "\n",
       "<path stroke=\"#663399\" stroke-width=\"2\" d=\"M 36.7,30 52,67\" />'\n",
       "\n",
       "<path stroke=\"#663399\" stroke-width=\"2\" d=\"M 58.6,70\" />'\n",
       "\n",
       "<path stroke=\"#663399\" stroke-width=\"2\" d=\"M 58.6,30 58.6,70 78.6,70\" />'\n",
       "\n",
       "</svg>"
      ],
      "text/plain": [
       "<IPython.core.display.HTML object>"
      ]
     },
     "metadata": {},
     "output_type": "display_data"
    },
    {
     "name": "stdout",
     "output_type": "stream",
     "text": [
      "y=70\n",
      "y=50\n",
      "y=30\n",
      "y=10\n"
     ]
    },
    {
     "data": {
      "text/html": [
       "<svg width=\"140\" height=\"80\" style=\"fill:none; stroke-linecap:round;\">\n",
       "    <rect width=\"100%\" height=\"100%\" fill=\"#F3F3F7\" />\n",
       "\n",
       "\n",
       "<path stroke=\"#DDDDDD\" stroke-width=\"2\" d=\"M 70,40\" />'\n",
       "\n",
       "<path stroke=\"#DDDDDD\" stroke-width=\"2\" d=\"M 0,70 1000,70\" />'\n",
       "\n",
       "<path stroke=\"#DDDDDD\" stroke-width=\"2\" d=\"M 0,50 1000,50\" />'\n",
       "\n",
       "<path stroke=\"#DDDDDD\" stroke-width=\"2\" d=\"M 0,30 1000,30\" />'\n",
       "\n",
       "<path stroke=\"#DDDDDD\" stroke-width=\"2\" d=\"M 0,10 1000,10\" />'\n",
       "\n",
       "<path stroke=\"#663399\" stroke-width=\"2\" d=\"M 1000,10\" />'\n",
       "\n",
       "<path stroke=\"#663399\" stroke-width=\"2\" d=\"M 30,30 30,70 10,70\" />'\n",
       "\n",
       "<path stroke=\"#663399\" stroke-width=\"2\" d=\"M 36.7,70\" />'\n",
       "\n",
       "<path stroke=\"#663399\" stroke-width=\"2\" d=\"M 36.7,30 56.7,30\" />'\n",
       "\n",
       "<path stroke=\"#663399\" stroke-width=\"2\" d=\"M 63.3,70\" />'\n",
       "\n",
       "<path stroke=\"#663399\" stroke-width=\"2\" d=\"M 63.3,30 63.3,70 83.3,70\" />'\n",
       "\n",
       "</svg>"
      ],
      "text/plain": [
       "<IPython.core.display.HTML object>"
      ]
     },
     "metadata": {},
     "output_type": "display_data"
    },
    {
     "name": "stdout",
     "output_type": "stream",
     "text": [
      "y=70\n",
      "y=50\n",
      "y=30\n",
      "y=10\n"
     ]
    },
    {
     "data": {
      "text/html": [
       "<svg width=\"140\" height=\"80\" style=\"fill:none; stroke-linecap:round;\">\n",
       "    <rect width=\"100%\" height=\"100%\" fill=\"#F3F3F7\" />\n",
       "\n",
       "\n",
       "<path stroke=\"#DDDDDD\" stroke-width=\"2\" d=\"M 70,40\" />'\n",
       "\n",
       "<path stroke=\"#DDDDDD\" stroke-width=\"2\" d=\"M 0,70 1000,70\" />'\n",
       "\n",
       "<path stroke=\"#DDDDDD\" stroke-width=\"2\" d=\"M 0,50 1000,50\" />'\n",
       "\n",
       "<path stroke=\"#DDDDDD\" stroke-width=\"2\" d=\"M 0,30 1000,30\" />'\n",
       "\n",
       "<path stroke=\"#DDDDDD\" stroke-width=\"2\" d=\"M 0,10 1000,10\" />'\n",
       "\n",
       "<path stroke=\"#663399\" stroke-width=\"2\" d=\"M 1000,10\" />'\n",
       "\n",
       "<path stroke=\"#663399\" stroke-width=\"2\" d=\"M 30,30 30,70 10,70\" />'\n",
       "\n",
       "<path stroke=\"#663399\" stroke-width=\"2\" d=\"M 36.7,70\" />'\n",
       "\n",
       "<path stroke=\"#663399\" stroke-width=\"2\" d=\"M 56.7,30 41.4,67\" />'\n",
       "\n",
       "<path stroke=\"#663399\" stroke-width=\"2\" d=\"M 63.3,70\" />'\n",
       "\n",
       "<path stroke=\"#663399\" stroke-width=\"2\" d=\"M 63.3,30 63.3,70 83.3,70\" />'\n",
       "\n",
       "</svg>"
      ],
      "text/plain": [
       "<IPython.core.display.HTML object>"
      ]
     },
     "metadata": {},
     "output_type": "display_data"
    },
    {
     "name": "stdout",
     "output_type": "stream",
     "text": [
      "y=70\n",
      "y=50\n",
      "y=30\n",
      "y=10\n"
     ]
    },
    {
     "data": {
      "text/html": [
       "<svg width=\"140\" height=\"80\" style=\"fill:none; stroke-linecap:round;\">\n",
       "    <rect width=\"100%\" height=\"100%\" fill=\"#F3F3F7\" />\n",
       "\n",
       "\n",
       "<path stroke=\"#DDDDDD\" stroke-width=\"2\" d=\"M 70,40\" />'\n",
       "\n",
       "<path stroke=\"#DDDDDD\" stroke-width=\"2\" d=\"M 0,70 1000,70\" />'\n",
       "\n",
       "<path stroke=\"#DDDDDD\" stroke-width=\"2\" d=\"M 0,50 1000,50\" />'\n",
       "\n",
       "<path stroke=\"#DDDDDD\" stroke-width=\"2\" d=\"M 0,30 1000,30\" />'\n",
       "\n",
       "<path stroke=\"#DDDDDD\" stroke-width=\"2\" d=\"M 0,10 1000,10\" />'\n",
       "\n",
       "<path stroke=\"#663399\" stroke-width=\"2\" d=\"M 1000,10\" />'\n",
       "\n",
       "<path stroke=\"#663399\" stroke-width=\"2\" d=\"M 30,30 30,70 10,70\" />'\n",
       "\n",
       "<path stroke=\"#663399\" stroke-width=\"2\" d=\"M 36.7,70\" />'\n",
       "\n",
       "<path stroke=\"#663399\" stroke-width=\"2\" d=\"M 36.7,30 52,67 67.3,30\" />'\n",
       "\n",
       "<path stroke=\"#663399\" stroke-width=\"2\" d=\"M 73.9,70\" />'\n",
       "\n",
       "<path stroke=\"#663399\" stroke-width=\"2\" d=\"M 73.9,30 73.9,70 93.9,70\" />'\n",
       "\n",
       "</svg>"
      ],
      "text/plain": [
       "<IPython.core.display.HTML object>"
      ]
     },
     "metadata": {},
     "output_type": "display_data"
    },
    {
     "name": "stdout",
     "output_type": "stream",
     "text": [
      "y=70\n",
      "y=50\n",
      "y=30\n",
      "y=10\n"
     ]
    },
    {
     "data": {
      "text/html": [
       "<svg width=\"140\" height=\"80\" style=\"fill:none; stroke-linecap:round;\">\n",
       "    <rect width=\"100%\" height=\"100%\" fill=\"#F3F3F7\" />\n",
       "\n",
       "\n",
       "<path stroke=\"#DDDDDD\" stroke-width=\"2\" d=\"M 70,40\" />'\n",
       "\n",
       "<path stroke=\"#DDDDDD\" stroke-width=\"2\" d=\"M 0,70 1000,70\" />'\n",
       "\n",
       "<path stroke=\"#DDDDDD\" stroke-width=\"2\" d=\"M 0,50 1000,50\" />'\n",
       "\n",
       "<path stroke=\"#DDDDDD\" stroke-width=\"2\" d=\"M 0,30 1000,30\" />'\n",
       "\n",
       "<path stroke=\"#DDDDDD\" stroke-width=\"2\" d=\"M 0,10 1000,10\" />'\n",
       "\n",
       "<path stroke=\"#663399\" stroke-width=\"2\" d=\"M 1000,10\" />'\n",
       "\n",
       "<path stroke=\"#663399\" stroke-width=\"2\" d=\"M 30,30 30,70 10,70\" />'\n",
       "\n",
       "<path stroke=\"#663399\" stroke-width=\"2\" d=\"M 36.7,70\" />'\n",
       "\n",
       "<path stroke=\"#663399\" stroke-width=\"2\" d=\"M 36.7,30 36.7,70 48,58.7\" />'\n",
       "\n",
       "<path stroke=\"#663399\" stroke-width=\"2\" d=\"M 54.6,70\" />'\n",
       "\n",
       "<path stroke=\"#663399\" stroke-width=\"2\" d=\"M 54.6,30 54.6,70 74.6,70\" />'\n",
       "\n",
       "</svg>"
      ],
      "text/plain": [
       "<IPython.core.display.HTML object>"
      ]
     },
     "metadata": {},
     "output_type": "display_data"
    },
    {
     "name": "stdout",
     "output_type": "stream",
     "text": [
      "y=70\n",
      "y=50\n",
      "y=30\n",
      "y=10\n"
     ]
    },
    {
     "data": {
      "text/html": [
       "<svg width=\"140\" height=\"80\" style=\"fill:none; stroke-linecap:round;\">\n",
       "    <rect width=\"100%\" height=\"100%\" fill=\"#F3F3F7\" />\n",
       "\n",
       "\n",
       "<path stroke=\"#DDDDDD\" stroke-width=\"2\" d=\"M 70,40\" />'\n",
       "\n",
       "<path stroke=\"#DDDDDD\" stroke-width=\"2\" d=\"M 0,70 1000,70\" />'\n",
       "\n",
       "<path stroke=\"#DDDDDD\" stroke-width=\"2\" d=\"M 0,50 1000,50\" />'\n",
       "\n",
       "<path stroke=\"#DDDDDD\" stroke-width=\"2\" d=\"M 0,30 1000,30\" />'\n",
       "\n",
       "<path stroke=\"#DDDDDD\" stroke-width=\"2\" d=\"M 0,10 1000,10\" />'\n",
       "\n",
       "<path stroke=\"#663399\" stroke-width=\"2\" d=\"M 1000,10\" />'\n",
       "\n",
       "<path stroke=\"#663399\" stroke-width=\"2\" d=\"M 30,30 30,70 10,70\" />'\n",
       "\n",
       "<path stroke=\"#663399\" stroke-width=\"2\" d=\"M 36.7,70\" />'\n",
       "\n",
       "<path stroke=\"#663399\" stroke-width=\"2\" d=\"M 76.7,30 37.1,69.6\" />'\n",
       "\n",
       "<path stroke=\"#663399\" stroke-width=\"2\" d=\"M 37.1,29.6 76.7,69.2\" />'\n",
       "\n",
       "<path stroke=\"#663399\" stroke-width=\"2\" d=\"M 83.3,70\" />'\n",
       "\n",
       "<path stroke=\"#663399\" stroke-width=\"2\" d=\"M 83.3,30 83.3,70 103.3,70\" />'\n",
       "\n",
       "</svg>"
      ],
      "text/plain": [
       "<IPython.core.display.HTML object>"
      ]
     },
     "metadata": {},
     "output_type": "display_data"
    },
    {
     "name": "stdout",
     "output_type": "stream",
     "text": [
      "y=70\n",
      "y=50\n",
      "y=30\n",
      "y=10\n"
     ]
    },
    {
     "data": {
      "text/html": [
       "<svg width=\"140\" height=\"80\" style=\"fill:none; stroke-linecap:round;\">\n",
       "    <rect width=\"100%\" height=\"100%\" fill=\"#F3F3F7\" />\n",
       "\n",
       "\n",
       "<path stroke=\"#DDDDDD\" stroke-width=\"2\" d=\"M 70,40\" />'\n",
       "\n",
       "<path stroke=\"#DDDDDD\" stroke-width=\"2\" d=\"M 0,70 1000,70\" />'\n",
       "\n",
       "<path stroke=\"#DDDDDD\" stroke-width=\"2\" d=\"M 0,50 1000,50\" />'\n",
       "\n",
       "<path stroke=\"#DDDDDD\" stroke-width=\"2\" d=\"M 0,30 1000,30\" />'\n",
       "\n",
       "<path stroke=\"#DDDDDD\" stroke-width=\"2\" d=\"M 0,10 1000,10\" />'\n",
       "\n",
       "<path stroke=\"#663399\" stroke-width=\"2\" d=\"M 1000,10\" />'\n",
       "\n",
       "<path stroke=\"#663399\" stroke-width=\"2\" d=\"M 30,30 30,70 10,70\" />'\n",
       "\n",
       "<path stroke=\"#663399\" stroke-width=\"2\" d=\"M 36.7,70\" />'\n",
       "\n",
       "<path stroke=\"#663399\" stroke-width=\"2\" d=\"M 40.7,30 57.6,47\" />'\n",
       "\n",
       "<path stroke=\"#663399\" stroke-width=\"2\" d=\"M 74.6,30 35,69.6\" />'\n",
       "\n",
       "<path stroke=\"#663399\" stroke-width=\"2\" d=\"M 81.3,70\" />'\n",
       "\n",
       "<path stroke=\"#663399\" stroke-width=\"2\" d=\"M 81.3,30 81.3,70 101.3,70\" />'\n",
       "\n",
       "</svg>"
      ],
      "text/plain": [
       "<IPython.core.display.HTML object>"
      ]
     },
     "metadata": {},
     "output_type": "display_data"
    },
    {
     "name": "stdout",
     "output_type": "stream",
     "text": [
      "y=70\n",
      "y=50\n",
      "y=30\n",
      "y=10\n"
     ]
    },
    {
     "data": {
      "text/html": [
       "<svg width=\"140\" height=\"80\" style=\"fill:none; stroke-linecap:round;\">\n",
       "    <rect width=\"100%\" height=\"100%\" fill=\"#F3F3F7\" />\n",
       "\n",
       "\n",
       "<path stroke=\"#DDDDDD\" stroke-width=\"2\" d=\"M 70,40\" />'\n",
       "\n",
       "<path stroke=\"#DDDDDD\" stroke-width=\"2\" d=\"M 0,70 1000,70\" />'\n",
       "\n",
       "<path stroke=\"#DDDDDD\" stroke-width=\"2\" d=\"M 0,50 1000,50\" />'\n",
       "\n",
       "<path stroke=\"#DDDDDD\" stroke-width=\"2\" d=\"M 0,30 1000,30\" />'\n",
       "\n",
       "<path stroke=\"#DDDDDD\" stroke-width=\"2\" d=\"M 0,10 1000,10\" />'\n",
       "\n",
       "<path stroke=\"#663399\" stroke-width=\"2\" d=\"M 1000,10\" />'\n",
       "\n",
       "<path stroke=\"#663399\" stroke-width=\"2\" d=\"M 30,30 30,70 10,70\" />'\n",
       "\n",
       "<path stroke=\"#663399\" stroke-width=\"2\" d=\"M 36.7,70\" />'\n",
       "\n",
       "<path stroke=\"#663399\" stroke-width=\"2\" d=\"M 36.7,30 76.7,30 37.1,69.6 77.1,69.6\" />'\n",
       "\n",
       "<path stroke=\"#663399\" stroke-width=\"2\" d=\"M 83.7,70\" />'\n",
       "\n",
       "<path stroke=\"#663399\" stroke-width=\"2\" d=\"M 83.7,30 83.7,70 103.7,70\" />'\n",
       "\n",
       "</svg>"
      ],
      "text/plain": [
       "<IPython.core.display.HTML object>"
      ]
     },
     "metadata": {},
     "output_type": "display_data"
    },
    {
     "name": "stdout",
     "output_type": "stream",
     "text": [
      "y=70\n",
      "y=50\n",
      "y=30\n",
      "y=10\n"
     ]
    },
    {
     "data": {
      "text/html": [
       "<svg width=\"140\" height=\"80\" style=\"fill:none; stroke-linecap:round;\">\n",
       "    <rect width=\"100%\" height=\"100%\" fill=\"#F3F3F7\" />\n",
       "\n",
       "\n",
       "<path stroke=\"#DDDDDD\" stroke-width=\"2\" d=\"M 70,40\" />'\n",
       "\n",
       "<path stroke=\"#DDDDDD\" stroke-width=\"2\" d=\"M 0,70 1000,70\" />'\n",
       "\n",
       "<path stroke=\"#DDDDDD\" stroke-width=\"2\" d=\"M 0,50 1000,50\" />'\n",
       "\n",
       "<path stroke=\"#DDDDDD\" stroke-width=\"2\" d=\"M 0,30 1000,30\" />'\n",
       "\n",
       "<path stroke=\"#DDDDDD\" stroke-width=\"2\" d=\"M 0,10 1000,10\" />'\n",
       "\n",
       "<path stroke=\"#663399\" stroke-width=\"2\" d=\"M 1000,10\" />'\n",
       "\n",
       "<path stroke=\"#663399\" stroke-width=\"2\" d=\"M 30,30 30,70 10,70\" />'\n",
       "\n",
       "<path stroke=\"#663399\" stroke-width=\"2\" d=\"M 36.7,70\" />'\n",
       "\n",
       "<path stroke=\"#663399\" stroke-width=\"2\" d=\"M 36.7,30 56.5,49.8 36.7,69.6\" />'\n",
       "\n",
       "<path stroke=\"#663399\" stroke-width=\"2\" d=\"M 63.1,70\" />'\n",
       "\n",
       "<path stroke=\"#663399\" stroke-width=\"2\" d=\"M 63.1,30 63.1,70 83.1,70\" />'\n",
       "\n",
       "</svg>"
      ],
      "text/plain": [
       "<IPython.core.display.HTML object>"
      ]
     },
     "metadata": {},
     "output_type": "display_data"
    },
    {
     "name": "stdout",
     "output_type": "stream",
     "text": [
      "y=70\n",
      "y=50\n",
      "y=30\n",
      "y=10\n"
     ]
    },
    {
     "data": {
      "text/html": [
       "<svg width=\"140\" height=\"80\" style=\"fill:none; stroke-linecap:round;\">\n",
       "    <rect width=\"100%\" height=\"100%\" fill=\"#F3F3F7\" />\n",
       "\n",
       "\n",
       "<path stroke=\"#DDDDDD\" stroke-width=\"2\" d=\"M 70,40\" />'\n",
       "\n",
       "<path stroke=\"#DDDDDD\" stroke-width=\"2\" d=\"M 0,70 1000,70\" />'\n",
       "\n",
       "<path stroke=\"#DDDDDD\" stroke-width=\"2\" d=\"M 0,50 1000,50\" />'\n",
       "\n",
       "<path stroke=\"#DDDDDD\" stroke-width=\"2\" d=\"M 0,30 1000,30\" />'\n",
       "\n",
       "<path stroke=\"#DDDDDD\" stroke-width=\"2\" d=\"M 0,10 1000,10\" />'\n",
       "\n",
       "<path stroke=\"#663399\" stroke-width=\"2\" d=\"M 1000,10\" />'\n",
       "\n",
       "<path stroke=\"#663399\" stroke-width=\"2\" d=\"M 30,30 30,70 10,70\" />'\n",
       "\n",
       "<path stroke=\"#663399\" stroke-width=\"2\" d=\"M 36.7,70\" />'\n",
       "\n",
       "<path stroke=\"#663399\" stroke-width=\"2\" d=\"M 36.7,30 56.5,49.8 36.7,69.6\" />'\n",
       "\n",
       "<path stroke=\"#663399\" stroke-width=\"2\" d=\"M 63.1,70\" />'\n",
       "\n",
       "<path stroke=\"#663399\" stroke-width=\"2\" d=\"M 63.1,30 63.1,70 83.1,70\" />'\n",
       "\n",
       "</svg>"
      ],
      "text/plain": [
       "<IPython.core.display.HTML object>"
      ]
     },
     "metadata": {},
     "output_type": "display_data"
    },
    {
     "name": "stdout",
     "output_type": "stream",
     "text": [
      "y=70\n",
      "y=50\n",
      "y=30\n",
      "y=10\n"
     ]
    },
    {
     "data": {
      "text/html": [
       "<svg width=\"140\" height=\"80\" style=\"fill:none; stroke-linecap:round;\">\n",
       "    <rect width=\"100%\" height=\"100%\" fill=\"#F3F3F7\" />\n",
       "\n",
       "\n",
       "<path stroke=\"#DDDDDD\" stroke-width=\"2\" d=\"M 70,40\" />'\n",
       "\n",
       "<path stroke=\"#DDDDDD\" stroke-width=\"2\" d=\"M 0,70 1000,70\" />'\n",
       "\n",
       "<path stroke=\"#DDDDDD\" stroke-width=\"2\" d=\"M 0,50 1000,50\" />'\n",
       "\n",
       "<path stroke=\"#DDDDDD\" stroke-width=\"2\" d=\"M 0,30 1000,30\" />'\n",
       "\n",
       "<path stroke=\"#DDDDDD\" stroke-width=\"2\" d=\"M 0,10 1000,10\" />'\n",
       "\n",
       "<path stroke=\"#663399\" stroke-width=\"2\" d=\"M 1000,10\" />'\n",
       "\n",
       "<path stroke=\"#663399\" stroke-width=\"2\" d=\"M 30,30 30,70 10,70\" />'\n",
       "\n",
       "<path stroke=\"#663399\" stroke-width=\"2\" d=\"M 36.7,70\" />'\n",
       "\n",
       "<path stroke=\"#663399\" stroke-width=\"2\" d=\"M 36.7,30 38.4,30 40.1,30.2 41.9,30.5 43.6,30.9 45.2,31.5 46.8,32.2 48.3,33.1 49.7,34.1 51.1,35.2 52.3,36.5 53.4,37.8 54.4,39.2 55.3,40.7 56,42.3 56.6,44 57.1,45.7 57.4,47.4 57.5,49.1 57.5,50.9 57.4,52.6 57.1,54.3 56.6,56 56,57.6 55.3,59.2 54.4,60.7 53.4,62.2 52.3,63.5 51.1,64.7 49.7,65.8 48.3,66.8 46.8,67.7 45.2,68.5 43.6,69.1 41.9,69.5 40.1,69.8 38.4,70\" />'\n",
       "\n",
       "<path stroke=\"#663399\" stroke-width=\"2\" d=\"M 64.2,70\" />'\n",
       "\n",
       "<path stroke=\"#663399\" stroke-width=\"2\" d=\"M 64.2,30 64.2,70 84.2,70\" />'\n",
       "\n",
       "</svg>"
      ],
      "text/plain": [
       "<IPython.core.display.HTML object>"
      ]
     },
     "metadata": {},
     "output_type": "display_data"
    },
    {
     "name": "stdout",
     "output_type": "stream",
     "text": [
      "y=70\n",
      "y=50\n",
      "y=30\n",
      "y=10\n"
     ]
    },
    {
     "data": {
      "text/html": [
       "<svg width=\"140\" height=\"80\" style=\"fill:none; stroke-linecap:round;\">\n",
       "    <rect width=\"100%\" height=\"100%\" fill=\"#F3F3F7\" />\n",
       "\n",
       "\n",
       "<path stroke=\"#DDDDDD\" stroke-width=\"2\" d=\"M 70,40\" />'\n",
       "\n",
       "<path stroke=\"#DDDDDD\" stroke-width=\"2\" d=\"M 0,70 1000,70\" />'\n",
       "\n",
       "<path stroke=\"#DDDDDD\" stroke-width=\"2\" d=\"M 0,50 1000,50\" />'\n",
       "\n",
       "<path stroke=\"#DDDDDD\" stroke-width=\"2\" d=\"M 0,30 1000,30\" />'\n",
       "\n",
       "<path stroke=\"#DDDDDD\" stroke-width=\"2\" d=\"M 0,10 1000,10\" />'\n",
       "\n",
       "<path stroke=\"#663399\" stroke-width=\"2\" d=\"M 1000,10\" />'\n",
       "\n",
       "<path stroke=\"#663399\" stroke-width=\"2\" d=\"M 30,30 30,70 10,70\" />'\n",
       "\n",
       "<path stroke=\"#663399\" stroke-width=\"2\" d=\"M 36.7,70\" />'\n",
       "\n",
       "<path stroke=\"#663399\" stroke-width=\"2\" d=\"M 40.7,70 51.4,44.1 51.6,43.5 51.9,42.8 52,42.1 52.1,41.4 52.1,40.8 52.1,40.1 52,39.4 51.9,38.7 51.6,38 51.4,37.4 51.1,36.8 50.7,36.2 50.3,35.6 49.8,35.1 49.3,34.6 48.7,34.2 48.1,33.8 47.5,33.5 46.9,33.2 46.2,33 45.5,32.9 44.8,32.8 44.1,32.8 43.4,32.8 42.7,32.9 42.1,33 41.4,33.2 40.8,33.5 40.1,33.8 39.5,34.2 39,34.6 38.5,35.1 38,35.6 37.6,36.2 37.2,36.8 36.9,37.4 36.6,38 36.4,38.7 36.3,39.4 36.2,40.1 36.1,40.8 36.2,41.4 36.3,42.1 36.4,42.8 36.6,43.5 36.9,44.1 37.2,44.8 37.6,45.3 38,45.9 38.5,46.4 39,46.9 39.5,47.3 40.1,47.7 40.8,48 41.4,48.3 42.1,48.5 42.7,48.6 43.4,48.7 44.1,48.8 44.8,48.7 70.7,38\" />'\n",
       "\n",
       "<path stroke=\"#663399\" stroke-width=\"2\" d=\"M 77.4,70\" />'\n",
       "\n",
       "<path stroke=\"#663399\" stroke-width=\"2\" d=\"M 77.4,30 77.4,70 97.4,70\" />'\n",
       "\n",
       "</svg>"
      ],
      "text/plain": [
       "<IPython.core.display.HTML object>"
      ]
     },
     "metadata": {},
     "output_type": "display_data"
    },
    {
     "name": "stdout",
     "output_type": "stream",
     "text": [
      "y=70\n",
      "y=50\n",
      "y=30\n",
      "y=10\n"
     ]
    },
    {
     "data": {
      "text/html": [
       "<svg width=\"140\" height=\"80\" style=\"fill:none; stroke-linecap:round;\">\n",
       "    <rect width=\"100%\" height=\"100%\" fill=\"#F3F3F7\" />\n",
       "\n",
       "\n",
       "<path stroke=\"#DDDDDD\" stroke-width=\"2\" d=\"M 70,40\" />'\n",
       "\n",
       "<path stroke=\"#DDDDDD\" stroke-width=\"2\" d=\"M 0,70 1000,70\" />'\n",
       "\n",
       "<path stroke=\"#DDDDDD\" stroke-width=\"2\" d=\"M 0,50 1000,50\" />'\n",
       "\n",
       "<path stroke=\"#DDDDDD\" stroke-width=\"2\" d=\"M 0,30 1000,30\" />'\n",
       "\n",
       "<path stroke=\"#DDDDDD\" stroke-width=\"2\" d=\"M 0,10 1000,10\" />'\n",
       "\n",
       "<path stroke=\"#663399\" stroke-width=\"2\" d=\"M 1000,10\" />'\n",
       "\n",
       "<path stroke=\"#663399\" stroke-width=\"2\" d=\"M 30,30 30,70 10,70\" />'\n",
       "\n",
       "<path stroke=\"#663399\" stroke-width=\"2\" d=\"M 36.7,70\" />'\n",
       "\n",
       "<path stroke=\"#663399\" stroke-width=\"2\" d=\"M 36.7,30 36.7,38 36.7,39 36.8,40.1 36.9,41.1 37.2,42.1 37.6,43.1 38,44.1 38.5,45 39.1,45.8 39.8,46.6 40.5,47.4 41.4,48 42.2,48.6 43.1,49.2 44.1,49.6 45,50 46.1,50.2 47.1,50.4 48.1,50.5 49.2,50.5 50.2,50.4 51.3,50.2 52.3,50 53.2,49.6 54.2,49.2 55.1,48.6 56,48 56.8,47.4 57.5,46.6 58.2,45.8 58.8,45 59.3,44.1 59.7,43.1 60.1,42.1 60.4,41.1 60.6,40.1 60.6,39 60.6,29 60.6,69\" />'\n",
       "\n",
       "<path stroke=\"#663399\" stroke-width=\"2\" d=\"M 67.3,70\" />'\n",
       "\n",
       "<path stroke=\"#663399\" stroke-width=\"2\" d=\"M 67.3,30 67.3,70 87.3,70\" />'\n",
       "\n",
       "</svg>"
      ],
      "text/plain": [
       "<IPython.core.display.HTML object>"
      ]
     },
     "metadata": {},
     "output_type": "display_data"
    },
    {
     "name": "stdout",
     "output_type": "stream",
     "text": [
      "y=70\n",
      "y=50\n",
      "y=30\n",
      "y=10\n"
     ]
    },
    {
     "data": {
      "text/html": [
       "<svg width=\"140\" height=\"80\" style=\"fill:none; stroke-linecap:round;\">\n",
       "    <rect width=\"100%\" height=\"100%\" fill=\"#F3F3F7\" />\n",
       "\n",
       "\n",
       "<path stroke=\"#DDDDDD\" stroke-width=\"2\" d=\"M 70,40\" />'\n",
       "\n",
       "<path stroke=\"#DDDDDD\" stroke-width=\"2\" d=\"M 0,70 1000,70\" />'\n",
       "\n",
       "<path stroke=\"#DDDDDD\" stroke-width=\"2\" d=\"M 0,50 1000,50\" />'\n",
       "\n",
       "<path stroke=\"#DDDDDD\" stroke-width=\"2\" d=\"M 0,30 1000,30\" />'\n",
       "\n",
       "<path stroke=\"#DDDDDD\" stroke-width=\"2\" d=\"M 0,10 1000,10\" />'\n",
       "\n",
       "<path stroke=\"#663399\" stroke-width=\"2\" d=\"M 1000,10\" />'\n",
       "\n",
       "<path stroke=\"#663399\" stroke-width=\"2\" d=\"M 30,30 30,70 10,70\" />'\n",
       "\n",
       "<path stroke=\"#663399\" stroke-width=\"2\" d=\"M 36.7,70\" />'\n",
       "\n",
       "<path stroke=\"#663399\" stroke-width=\"2\" d=\"M 36.7,70 36.7,68.6 36.8,67.2 37,65.8 37.4,64.5 37.9,63.2 38.5,61.9 39.2,60.7 40,59.6 40.9,58.5 41.8,57.5 42.9,56.6 44.1,55.8 45.3,55.1 46.5,54.5 47.8,54 49.2,53.7 50.6,53.4 52,53.3 53.3,53.3 54.7,53.4 56.1,53.7 57.5,54 58.8,54.5 60,55.1 61.2,55.8 62.4,56.6 63.5,57.5 64.4,58.5 65.3,59.6 66.1,60.7 66.8,61.9 67.4,63.2 67.9,64.5 68.3,65.8 68.5,67.2 68.6,68.6\" />'\n",
       "\n",
       "<path stroke=\"#663399\" stroke-width=\"2\" d=\"M 75.3,70\" />'\n",
       "\n",
       "<path stroke=\"#663399\" stroke-width=\"2\" d=\"M 75.3,30 75.3,70 95.3,70\" />'\n",
       "\n",
       "</svg>"
      ],
      "text/plain": [
       "<IPython.core.display.HTML object>"
      ]
     },
     "metadata": {},
     "output_type": "display_data"
    },
    {
     "name": "stdout",
     "output_type": "stream",
     "text": [
      "y=70\n",
      "y=50\n",
      "y=30\n",
      "y=10\n"
     ]
    },
    {
     "data": {
      "text/html": [
       "<svg width=\"140\" height=\"80\" style=\"fill:none; stroke-linecap:round;\">\n",
       "    <rect width=\"100%\" height=\"100%\" fill=\"#F3F3F7\" />\n",
       "\n",
       "\n",
       "<path stroke=\"#DDDDDD\" stroke-width=\"2\" d=\"M 70,40\" />'\n",
       "\n",
       "<path stroke=\"#DDDDDD\" stroke-width=\"2\" d=\"M 0,70 1000,70\" />'\n",
       "\n",
       "<path stroke=\"#DDDDDD\" stroke-width=\"2\" d=\"M 0,50 1000,50\" />'\n",
       "\n",
       "<path stroke=\"#DDDDDD\" stroke-width=\"2\" d=\"M 0,30 1000,30\" />'\n",
       "\n",
       "<path stroke=\"#DDDDDD\" stroke-width=\"2\" d=\"M 0,10 1000,10\" />'\n",
       "\n",
       "<path stroke=\"#663399\" stroke-width=\"2\" d=\"M 1000,10\" />'\n",
       "\n",
       "<path stroke=\"#663399\" stroke-width=\"2\" d=\"M 30,30 30,70 10,70\" />'\n",
       "\n",
       "<path stroke=\"#663399\" stroke-width=\"2\" d=\"M 36.7,70\" />'\n",
       "\n",
       "<path stroke=\"#663399\" stroke-width=\"2\" d=\"M 36.7,30 36.7,31.4 36.8,32.8 37,34.2 37.4,35.5 37.9,36.8 38.5,38.1 39.2,39.3 40,40.4 40.9,41.5 41.8,42.5 42.9,43.4 44.1,44.2 45.3,44.9 46.5,45.5 47.8,46 49.2,46.3 50.6,46.6 52,46.7 53.3,46.7 54.7,46.6 56.1,46.3 57.5,46 58.8,45.5 60,44.9 61.2,44.2 62.4,43.4 63.5,42.5 64.4,41.5 65.3,40.4 66.1,39.3 66.8,38.1 67.4,36.8 67.9,35.5 68.3,34.2 68.5,32.8 68.6,31.4\" />'\n",
       "\n",
       "<path stroke=\"#663399\" stroke-width=\"2\" d=\"M 75.3,70\" />'\n",
       "\n",
       "<path stroke=\"#663399\" stroke-width=\"2\" d=\"M 75.3,30 75.3,70 95.3,70\" />'\n",
       "\n",
       "</svg>"
      ],
      "text/plain": [
       "<IPython.core.display.HTML object>"
      ]
     },
     "metadata": {},
     "output_type": "display_data"
    },
    {
     "name": "stdout",
     "output_type": "stream",
     "text": [
      "y=70\n",
      "y=50\n",
      "y=30\n",
      "y=10\n"
     ]
    },
    {
     "data": {
      "text/html": [
       "<svg width=\"140\" height=\"80\" style=\"fill:none; stroke-linecap:round;\">\n",
       "    <rect width=\"100%\" height=\"100%\" fill=\"#F3F3F7\" />\n",
       "\n",
       "\n",
       "<path stroke=\"#DDDDDD\" stroke-width=\"2\" d=\"M 70,40\" />'\n",
       "\n",
       "<path stroke=\"#DDDDDD\" stroke-width=\"2\" d=\"M 0,70 1000,70\" />'\n",
       "\n",
       "<path stroke=\"#DDDDDD\" stroke-width=\"2\" d=\"M 0,50 1000,50\" />'\n",
       "\n",
       "<path stroke=\"#DDDDDD\" stroke-width=\"2\" d=\"M 0,30 1000,30\" />'\n",
       "\n",
       "<path stroke=\"#DDDDDD\" stroke-width=\"2\" d=\"M 0,10 1000,10\" />'\n",
       "\n",
       "<path stroke=\"#663399\" stroke-width=\"2\" d=\"M 1000,10\" />'\n",
       "\n",
       "<path stroke=\"#663399\" stroke-width=\"2\" d=\"M 30,30 30,70 10,70\" />'\n",
       "\n",
       "<path stroke=\"#663399\" stroke-width=\"2\" d=\"M 36.7,70\" />'\n",
       "\n",
       "<path stroke=\"#663399\" stroke-width=\"2\" d=\"M 56.7,30 54.9,30 53.2,30.2 51.5,30.5 49.8,30.9 48.1,31.5 46.6,32.2 45,33.1 43.6,34.1 42.3,35.2 41,36.5 39.9,37.8 38.9,39.2 38.1,40.7 37.3,42.3 36.7,44 36.3,45.7 36,47.4 35.8,49.1 35.8,50.9 36,52.6 36.3,54.3 36.7,56 37.3,57.6 38.1,59.2 38.9,60.7 39.9,62.2 41,63.5 42.3,64.7 43.6,65.8 45,66.8 46.6,67.7 48.1,68.5 49.8,69.1 51.5,69.5 53.2,69.8 54.9,70\" />'\n",
       "\n",
       "<path stroke=\"#663399\" stroke-width=\"2\" d=\"M 63.3,70\" />'\n",
       "\n",
       "<path stroke=\"#663399\" stroke-width=\"2\" d=\"M 63.3,30 63.3,70 83.3,70\" />'\n",
       "\n",
       "</svg>"
      ],
      "text/plain": [
       "<IPython.core.display.HTML object>"
      ]
     },
     "metadata": {},
     "output_type": "display_data"
    },
    {
     "name": "stdout",
     "output_type": "stream",
     "text": [
      "y=70\n",
      "y=50\n",
      "y=30\n",
      "y=10\n"
     ]
    },
    {
     "data": {
      "text/html": [
       "<svg width=\"140\" height=\"80\" style=\"fill:none; stroke-linecap:round;\">\n",
       "    <rect width=\"100%\" height=\"100%\" fill=\"#F3F3F7\" />\n",
       "\n",
       "\n",
       "<path stroke=\"#DDDDDD\" stroke-width=\"2\" d=\"M 70,40\" />'\n",
       "\n",
       "<path stroke=\"#DDDDDD\" stroke-width=\"2\" d=\"M 0,70 1000,70\" />'\n",
       "\n",
       "<path stroke=\"#DDDDDD\" stroke-width=\"2\" d=\"M 0,50 1000,50\" />'\n",
       "\n",
       "<path stroke=\"#DDDDDD\" stroke-width=\"2\" d=\"M 0,30 1000,30\" />'\n",
       "\n",
       "<path stroke=\"#DDDDDD\" stroke-width=\"2\" d=\"M 0,10 1000,10\" />'\n",
       "\n",
       "<path stroke=\"#663399\" stroke-width=\"2\" d=\"M 1000,10\" />'\n",
       "\n",
       "<path stroke=\"#663399\" stroke-width=\"2\" d=\"M 30,30 30,70 10,70\" />'\n",
       "\n",
       "<path stroke=\"#663399\" stroke-width=\"2\" d=\"M 36.7,70\" />'\n",
       "\n",
       "<path stroke=\"#663399\" stroke-width=\"2\" d=\"M 52.7,30 54.4,30 56.1,30.2 57.9,30.5 59.6,30.9 61.2,31.5 62.8,32.2 64.3,33.1 65.7,34.1 67.1,35.2 68.3,36.5 69.4,37.8 70.4,39.2 71.3,40.7 72,42.3 72.6,44 73.1,45.7 73.4,47.4 73.5,49.1 73.5,50.9 73.4,52.6 73.1,54.3 72.6,56 72,57.6 71.3,59.2 70.4,60.7 69.4,62.2 68.3,63.5 67.1,64.7 65.7,65.8 64.3,66.8 62.8,67.7 61.2,68.5 59.6,69.1 57.9,69.5 56.1,69.8 54.4,70 52.7,70 50.9,69.8 49.2,69.5 47.5,69.1 45.9,68.5 44.3,67.7 42.8,66.8 41.4,65.8 40,64.7 38.8,63.5 37.7,62.2 36.7,60.7 35.8,59.2 35.1,57.6 34.5,56 34,54.3 33.7,52.6 33.6,50.9 33.6,49.1 33.7,47.4 34,45.7 34.5,44 35.1,42.3 35.8,40.7 36.7,39.2 37.7,37.8 38.8,36.5 40,35.2 41.4,34.1 42.8,33.1 44.3,32.2 45.9,31.5 47.5,30.9 49.2,30.5 50.9,30.2 52.7,30 88.7,30\" />'\n",
       "\n",
       "<path stroke=\"#663399\" stroke-width=\"2\" d=\"M 95.3,70\" />'\n",
       "\n",
       "<path stroke=\"#663399\" stroke-width=\"2\" d=\"M 95.3,30 95.3,70 115.3,70\" />'\n",
       "\n",
       "</svg>"
      ],
      "text/plain": [
       "<IPython.core.display.HTML object>"
      ]
     },
     "metadata": {},
     "output_type": "display_data"
    },
    {
     "name": "stdout",
     "output_type": "stream",
     "text": [
      "y=70\n",
      "y=50\n",
      "y=30\n",
      "y=10\n"
     ]
    },
    {
     "data": {
      "text/html": [
       "<svg width=\"140\" height=\"80\" style=\"fill:none; stroke-linecap:round;\">\n",
       "    <rect width=\"100%\" height=\"100%\" fill=\"#F3F3F7\" />\n",
       "\n",
       "\n",
       "<path stroke=\"#DDDDDD\" stroke-width=\"2\" d=\"M 70,40\" />'\n",
       "\n",
       "<path stroke=\"#DDDDDD\" stroke-width=\"2\" d=\"M 0,70 1000,70\" />'\n",
       "\n",
       "<path stroke=\"#DDDDDD\" stroke-width=\"2\" d=\"M 0,50 1000,50\" />'\n",
       "\n",
       "<path stroke=\"#DDDDDD\" stroke-width=\"2\" d=\"M 0,30 1000,30\" />'\n",
       "\n",
       "<path stroke=\"#DDDDDD\" stroke-width=\"2\" d=\"M 0,10 1000,10\" />'\n",
       "\n",
       "<path stroke=\"#663399\" stroke-width=\"2\" d=\"M 1000,10\" />'\n",
       "\n",
       "<path stroke=\"#663399\" stroke-width=\"2\" d=\"M 30,30 30,70 10,70\" />'\n",
       "\n",
       "<path stroke=\"#663399\" stroke-width=\"2\" d=\"M 36.7,70\" />'\n",
       "\n",
       "<path stroke=\"#663399\" stroke-width=\"2\" d=\"M 52.7,40 52.7,40.9 52.6,41.7 52.4,42.6 52.2,43.4 51.9,44.3 51.5,45.1 51.1,45.8 50.6,46.5 50,47.2 49.4,47.8 48.8,48.4 48,48.9 47.3,49.3 46.5,49.7 45.7,50 44.8,50.2 44,50.4 43.1,50.4 42.2,50.4 41.4,50.4 40.5,50.2 39.7,50 38.8,49.7 38.1,49.3 37.3,48.9 36.6,48.4 35.9,47.8 35.3,47.2 34.7,46.5 34.2,45.8 33.8,45.1 33.4,44.3 33.1,43.4 32.9,42.6 32.8,41.7 32.7,40.9 32.7,40 32.8,39.1 32.9,38.3 33.1,37.4 33.4,36.6 33.8,35.8 34.2,35.1 34.7,34.3 35.3,33.7 35.9,33.1 36.6,32.5 37.3,32 38.1,31.6 38.8,31.2 39.7,30.9 40.5,30.7 41.4,30.5 42.2,30.4 43.1,30.4 44,30.5 44.8,30.7 45.7,30.9 46.5,31.2 47.3,31.6 48,32 48.8,32.5 49.4,33.1 50,33.7 50.6,34.3 51.1,35.1 51.5,35.8 51.9,36.6 52.2,37.4 52.4,38.3 52.6,39.1 52.7,40 52.7,70\" />'\n",
       "\n",
       "<path stroke=\"#663399\" stroke-width=\"2\" d=\"M 59.3,70\" />'\n",
       "\n",
       "<path stroke=\"#663399\" stroke-width=\"2\" d=\"M 59.3,30 59.3,70 79.3,70\" />'\n",
       "\n",
       "</svg>"
      ],
      "text/plain": [
       "<IPython.core.display.HTML object>"
      ]
     },
     "metadata": {},
     "output_type": "display_data"
    },
    {
     "name": "stdout",
     "output_type": "stream",
     "text": [
      "y=70\n",
      "y=50\n",
      "y=30\n",
      "y=10\n"
     ]
    },
    {
     "data": {
      "text/html": [
       "<svg width=\"140\" height=\"80\" style=\"fill:none; stroke-linecap:round;\">\n",
       "    <rect width=\"100%\" height=\"100%\" fill=\"#F3F3F7\" />\n",
       "\n",
       "\n",
       "<path stroke=\"#DDDDDD\" stroke-width=\"2\" d=\"M 70,40\" />'\n",
       "\n",
       "<path stroke=\"#DDDDDD\" stroke-width=\"2\" d=\"M 0,70 1000,70\" />'\n",
       "\n",
       "<path stroke=\"#DDDDDD\" stroke-width=\"2\" d=\"M 0,50 1000,50\" />'\n",
       "\n",
       "<path stroke=\"#DDDDDD\" stroke-width=\"2\" d=\"M 0,30 1000,30\" />'\n",
       "\n",
       "<path stroke=\"#DDDDDD\" stroke-width=\"2\" d=\"M 0,10 1000,10\" />'\n",
       "\n",
       "<path stroke=\"#663399\" stroke-width=\"2\" d=\"M 1000,10\" />'\n",
       "\n",
       "<path stroke=\"#663399\" stroke-width=\"2\" d=\"M 30,30 30,70 10,70\" />'\n",
       "\n",
       "<path stroke=\"#663399\" stroke-width=\"2\" d=\"M 36.7,70\" />'\n",
       "\n",
       "<path stroke=\"#663399\" stroke-width=\"2\" d=\"M 36.7,30 36.7,70 36.7,50 36.7,48.3 36.8,46.5 37.1,44.8 37.6,43.1 38.2,41.5 38.9,39.9 39.8,38.4 40.8,37 41.9,35.6 43.1,34.4 44.5,33.3 45.9,32.3 47.4,31.4 49,30.7 50.6,30.1 52.3,29.6 54,29.3 55.8,29.1\" />'\n",
       "\n",
       "<path stroke=\"#663399\" stroke-width=\"2\" d=\"M 62.4,70\" />'\n",
       "\n",
       "<path stroke=\"#663399\" stroke-width=\"2\" d=\"M 62.4,30 62.4,70 82.4,70\" />'\n",
       "\n",
       "</svg>"
      ],
      "text/plain": [
       "<IPython.core.display.HTML object>"
      ]
     },
     "metadata": {},
     "output_type": "display_data"
    },
    {
     "name": "stdout",
     "output_type": "stream",
     "text": [
      "y=70\n",
      "y=50\n",
      "y=30\n",
      "y=10\n"
     ]
    },
    {
     "data": {
      "text/html": [
       "<svg width=\"140\" height=\"80\" style=\"fill:none; stroke-linecap:round;\">\n",
       "    <rect width=\"100%\" height=\"100%\" fill=\"#F3F3F7\" />\n",
       "\n",
       "\n",
       "<path stroke=\"#DDDDDD\" stroke-width=\"2\" d=\"M 70,40\" />'\n",
       "\n",
       "<path stroke=\"#DDDDDD\" stroke-width=\"2\" d=\"M 0,70 1000,70\" />'\n",
       "\n",
       "<path stroke=\"#DDDDDD\" stroke-width=\"2\" d=\"M 0,50 1000,50\" />'\n",
       "\n",
       "<path stroke=\"#DDDDDD\" stroke-width=\"2\" d=\"M 0,30 1000,30\" />'\n",
       "\n",
       "<path stroke=\"#DDDDDD\" stroke-width=\"2\" d=\"M 0,10 1000,10\" />'\n",
       "\n",
       "<path stroke=\"#663399\" stroke-width=\"2\" d=\"M 1000,10\" />'\n",
       "\n",
       "<path stroke=\"#663399\" stroke-width=\"2\" d=\"M 30,30 30,70 10,70\" />'\n",
       "\n",
       "<path stroke=\"#663399\" stroke-width=\"2\" d=\"M 36.7,70\" />'\n",
       "\n",
       "<path stroke=\"#663399\" stroke-width=\"2\" d=\"M 36.7,40 36.7,40.9 36.7,41.7 36.9,42.6 37.1,43.4 37.4,44.3 37.8,45.1 38.2,45.8 38.7,46.5 39.3,47.2 39.9,47.8 40.6,48.4 41.3,48.9 42,49.3 42.8,49.7 43.7,50 44.5,50.2 45.4,50.4 46.2,50.4 47.1,50.4 48,50.4 48.8,50.2 49.7,50 50.5,49.7 51.3,49.3 52,48.9 52.7,48.4 53.4,47.8 54,47.2 54.6,46.5 55.1,45.8 55.5,45.1 55.9,44.3 56.2,43.4 56.4,42.6 56.6,41.7 56.6,40.9 56.6,40 56.6,39.1 56.4,38.3 56.2,37.4 55.9,36.6 55.5,35.8 55.1,35.1 54.6,34.3 54,33.7 53.4,33.1 52.7,32.5 52,32 51.3,31.6 50.5,31.2 49.7,30.9 48.8,30.7 48,30.5 47.1,30.4 46.2,30.4 45.4,30.5 44.5,30.7 43.7,30.9 42.8,31.2 42,31.6 41.3,32 40.6,32.5 39.9,33.1 39.3,33.7 38.7,34.3 38.2,35.1 37.8,35.8 37.4,36.6 37.1,37.4 36.9,38.3 36.7,39.1 36.7,40 36.7,70\" />'\n",
       "\n",
       "<path stroke=\"#663399\" stroke-width=\"2\" d=\"M 63.3,70\" />'\n",
       "\n",
       "<path stroke=\"#663399\" stroke-width=\"2\" d=\"M 63.3,30 63.3,70 83.3,70\" />'\n",
       "\n",
       "</svg>"
      ],
      "text/plain": [
       "<IPython.core.display.HTML object>"
      ]
     },
     "metadata": {},
     "output_type": "display_data"
    },
    {
     "name": "stdout",
     "output_type": "stream",
     "text": [
      "y=70\n",
      "y=50\n",
      "y=30\n",
      "y=10\n"
     ]
    },
    {
     "data": {
      "text/html": [
       "<svg width=\"140\" height=\"80\" style=\"fill:none; stroke-linecap:round;\">\n",
       "    <rect width=\"100%\" height=\"100%\" fill=\"#F3F3F7\" />\n",
       "\n",
       "\n",
       "<path stroke=\"#DDDDDD\" stroke-width=\"2\" d=\"M 70,40\" />'\n",
       "\n",
       "<path stroke=\"#DDDDDD\" stroke-width=\"2\" d=\"M 0,70 1000,70\" />'\n",
       "\n",
       "<path stroke=\"#DDDDDD\" stroke-width=\"2\" d=\"M 0,50 1000,50\" />'\n",
       "\n",
       "<path stroke=\"#DDDDDD\" stroke-width=\"2\" d=\"M 0,30 1000,30\" />'\n",
       "\n",
       "<path stroke=\"#DDDDDD\" stroke-width=\"2\" d=\"M 0,10 1000,10\" />'\n",
       "\n",
       "<path stroke=\"#663399\" stroke-width=\"2\" d=\"M 1000,10\" />'\n",
       "\n",
       "<path stroke=\"#663399\" stroke-width=\"2\" d=\"M 30,30 30,70 10,70\" />'\n",
       "\n",
       "<path stroke=\"#663399\" stroke-width=\"2\" d=\"M 36.7,70\" />'\n",
       "\n",
       "<path stroke=\"#663399\" stroke-width=\"2\" d=\"M 36.7,30 44.3,48.5\" />'\n",
       "\n",
       "<path stroke=\"#663399\" stroke-width=\"2\" d=\"M 44.3,48.5 48.2,52.8 50.8,56.6 52.4,60 53,62.9 52.8,65.4 51.9,67.4 50.5,69 48.6,70.1 46.5,70.8 44.3,71 42.1,70.8 40,70.1 38.2,69 36.8,67.4 35.9,65.4 35.7,62.9 36.3,60 37.8,56.6 40.5,52.8 44.3,48.5 52,30\" />'\n",
       "\n",
       "<path stroke=\"#663399\" stroke-width=\"2\" d=\"M 58.6,70\" />'\n",
       "\n",
       "<path stroke=\"#663399\" stroke-width=\"2\" d=\"M 58.6,30 58.6,70 78.6,70\" />'\n",
       "\n",
       "</svg>"
      ],
      "text/plain": [
       "<IPython.core.display.HTML object>"
      ]
     },
     "metadata": {},
     "output_type": "display_data"
    },
    {
     "name": "stdout",
     "output_type": "stream",
     "text": [
      "y=70\n",
      "y=50\n",
      "y=30\n",
      "y=10\n"
     ]
    },
    {
     "data": {
      "text/html": [
       "<svg width=\"140\" height=\"80\" style=\"fill:none; stroke-linecap:round;\">\n",
       "    <rect width=\"100%\" height=\"100%\" fill=\"#F3F3F7\" />\n",
       "\n",
       "\n",
       "<path stroke=\"#DDDDDD\" stroke-width=\"2\" d=\"M 70,40\" />'\n",
       "\n",
       "<path stroke=\"#DDDDDD\" stroke-width=\"2\" d=\"M 0,70 1000,70\" />'\n",
       "\n",
       "<path stroke=\"#DDDDDD\" stroke-width=\"2\" d=\"M 0,50 1000,50\" />'\n",
       "\n",
       "<path stroke=\"#DDDDDD\" stroke-width=\"2\" d=\"M 0,30 1000,30\" />'\n",
       "\n",
       "<path stroke=\"#DDDDDD\" stroke-width=\"2\" d=\"M 0,10 1000,10\" />'\n",
       "\n",
       "<path stroke=\"#663399\" stroke-width=\"2\" d=\"M 1000,10\" />'\n",
       "\n",
       "<path stroke=\"#663399\" stroke-width=\"2\" d=\"M 30,30 30,70 10,70\" />'\n",
       "\n",
       "<path stroke=\"#663399\" stroke-width=\"2\" d=\"M 36.7,70\" />'\n",
       "\n",
       "<path stroke=\"#663399\" stroke-width=\"2\" d=\"M 76.7,50 76.7,51.7 76.5,53.5 76.2,55.2 75.8,56.9 75.2,58.5 74.4,60.1 73.6,61.6 72.6,63 71.4,64.4 70.2,65.6 68.9,66.7 67.4,67.7 65.9,68.6 64.3,69.3 62.7,69.9 61,70.4 59.3,70.7 57.6,70.9 55.8,70.9 54.1,70.7 52.4,70.4 50.7,69.9 49,69.3 47.5,68.6 45.9,67.7 44.5,66.7 43.2,65.6 41.9,64.4 40.8,63 39.8,61.6 38.9,60.1 38.2,58.5 37.6,56.9 37.2,55.2 36.9,53.5 36.7,51.7 36.7,50 36.9,48.3 37.2,46.5 37.6,44.9 38.2,43.2 38.9,41.6 39.8,40.1 40.8,38.7 41.9,37.4 43.2,36.1 44.5,35 45.9,34 47.5,33.1 49,32.4 50.7,31.8 52.4,31.3 54.1,31 55.8,30.9 57.6,30.9 59.3,31 61,31.3 62.7,31.8 64.3,32.4 65.9,33.1 67.4,34 68.9,35 70.2,36.1 71.4,37.4 72.6,38.7 73.6,40.1 74.4,41.6 75.2,43.2 75.8,44.9 76.2,46.5 76.5,48.3 76.7,50\" />'\n",
       "\n",
       "<path stroke=\"#663399\" stroke-width=\"2\" d=\"M 83.3,70\" />'\n",
       "\n",
       "<path stroke=\"#663399\" stroke-width=\"2\" d=\"M 83.3,30 83.3,70 103.3,70\" />'\n",
       "\n",
       "</svg>"
      ],
      "text/plain": [
       "<IPython.core.display.HTML object>"
      ]
     },
     "metadata": {},
     "output_type": "display_data"
    },
    {
     "name": "stdout",
     "output_type": "stream",
     "text": [
      "y=70\n",
      "y=50\n",
      "y=30\n",
      "y=10\n"
     ]
    },
    {
     "data": {
      "text/html": [
       "<svg width=\"140\" height=\"80\" style=\"fill:none; stroke-linecap:round;\">\n",
       "    <rect width=\"100%\" height=\"100%\" fill=\"#F3F3F7\" />\n",
       "\n",
       "\n",
       "<path stroke=\"#DDDDDD\" stroke-width=\"2\" d=\"M 70,40\" />'\n",
       "\n",
       "<path stroke=\"#DDDDDD\" stroke-width=\"2\" d=\"M 0,70 1000,70\" />'\n",
       "\n",
       "<path stroke=\"#DDDDDD\" stroke-width=\"2\" d=\"M 0,50 1000,50\" />'\n",
       "\n",
       "<path stroke=\"#DDDDDD\" stroke-width=\"2\" d=\"M 0,30 1000,30\" />'\n",
       "\n",
       "<path stroke=\"#DDDDDD\" stroke-width=\"2\" d=\"M 0,10 1000,10\" />'\n",
       "\n",
       "<path stroke=\"#663399\" stroke-width=\"2\" d=\"M 1000,10\" />'\n",
       "\n",
       "<path stroke=\"#663399\" stroke-width=\"2\" d=\"M 30,30 30,70 10,70\" />'\n",
       "\n",
       "<path stroke=\"#663399\" stroke-width=\"2\" d=\"M 36.7,70\" />'\n",
       "\n",
       "<path stroke=\"#663399\" stroke-width=\"2\" d=\"M 76.7,50 76.7,51.7 76.5,53.5 76.2,55.2 75.8,56.9 75.2,58.5 74.4,60.1 73.6,61.6 72.6,63 71.4,64.4 70.2,65.6 68.9,66.7 67.4,67.7 65.9,68.6 64.3,69.3 62.7,69.9 61,70.4 59.3,70.7 57.6,70.9 55.8,70.9 54.1,70.7 52.4,70.4 50.7,69.9 49,69.3 47.5,68.6 45.9,67.7 44.5,66.7 43.2,65.6 41.9,64.4 40.8,63 39.8,61.6 38.9,60.1 38.2,58.5 37.6,56.9 37.2,55.2 36.9,53.5 36.7,51.7 36.7,50 36.9,48.3 37.2,46.5 37.6,44.9 38.2,43.2 38.9,41.6 39.8,40.1 40.8,38.7 41.9,37.4 43.2,36.1 44.5,35 45.9,34 47.5,33.1 49,32.4 50.7,31.8 52.4,31.3 54.1,31 55.8,30.9 57.6,30.9 59.3,31 61,31.3 62.7,31.8 64.3,32.4 65.9,33.1 67.4,34 68.9,35 70.2,36.1 71.4,37.4 72.6,38.7 73.6,40.1 74.4,41.6 75.2,43.2 75.8,44.9 76.2,46.5 76.5,48.3 76.7,50\" />'\n",
       "\n",
       "<path stroke=\"#663399\" stroke-width=\"2\" d=\"M 83.3,70\" />'\n",
       "\n",
       "<path stroke=\"#663399\" stroke-width=\"2\" d=\"M 83.3,30 83.3,70 103.3,70\" />'\n",
       "\n",
       "</svg>"
      ],
      "text/plain": [
       "<IPython.core.display.HTML object>"
      ]
     },
     "metadata": {},
     "output_type": "display_data"
    },
    {
     "name": "stdout",
     "output_type": "stream",
     "text": [
      "y=70\n",
      "y=50\n",
      "y=30\n",
      "y=10\n"
     ]
    },
    {
     "data": {
      "text/html": [
       "<svg width=\"140\" height=\"80\" style=\"fill:none; stroke-linecap:round;\">\n",
       "    <rect width=\"100%\" height=\"100%\" fill=\"#F3F3F7\" />\n",
       "\n",
       "\n",
       "<path stroke=\"#DDDDDD\" stroke-width=\"2\" d=\"M 70,40\" />'\n",
       "\n",
       "<path stroke=\"#DDDDDD\" stroke-width=\"2\" d=\"M 0,70 1000,70\" />'\n",
       "\n",
       "<path stroke=\"#DDDDDD\" stroke-width=\"2\" d=\"M 0,50 1000,50\" />'\n",
       "\n",
       "<path stroke=\"#DDDDDD\" stroke-width=\"2\" d=\"M 0,30 1000,30\" />'\n",
       "\n",
       "<path stroke=\"#DDDDDD\" stroke-width=\"2\" d=\"M 0,10 1000,10\" />'\n",
       "\n",
       "<path stroke=\"#663399\" stroke-width=\"2\" d=\"M 1000,10\" />'\n",
       "\n",
       "<path stroke=\"#663399\" stroke-width=\"2\" d=\"M 30,30 30,70 10,70\" />'\n",
       "\n",
       "<path stroke=\"#663399\" stroke-width=\"2\" d=\"M 36.7,70\" />'\n",
       "\n",
       "<path stroke=\"#663399\" stroke-width=\"2\" d=\"M 52.7,30 52.7,60\" />'\n",
       "\n",
       "<path stroke=\"#663399\" stroke-width=\"2\" d=\"M 52.7,60 52.5,64.1 51.9,67.3 50.9,69.8 49.8,71.5 48.4,72.7 47,73.2 45.5,73.3 44,73 42.6,72.3 41.4,71.2 40.4,70 39.7,68.6 39.4,67.2 39.4,65.7 40,64.2 41.1,62.9 42.9,61.7 45.4,60.8 48.6,60.2 52.7,60\" />'\n",
       "\n",
       "<path stroke=\"#663399\" stroke-width=\"2\" d=\"M 59.3,70\" />'\n",
       "\n",
       "<path stroke=\"#663399\" stroke-width=\"2\" d=\"M 59.3,30 59.3,70 79.3,70\" />'\n",
       "\n",
       "</svg>"
      ],
      "text/plain": [
       "<IPython.core.display.HTML object>"
      ]
     },
     "metadata": {},
     "output_type": "display_data"
    },
    {
     "name": "stdout",
     "output_type": "stream",
     "text": [
      "y=70\n",
      "y=50\n",
      "y=30\n",
      "y=10\n"
     ]
    },
    {
     "data": {
      "text/html": [
       "<svg width=\"140\" height=\"80\" style=\"fill:none; stroke-linecap:round;\">\n",
       "    <rect width=\"100%\" height=\"100%\" fill=\"#F3F3F7\" />\n",
       "\n",
       "\n",
       "<path stroke=\"#DDDDDD\" stroke-width=\"2\" d=\"M 70,40\" />'\n",
       "\n",
       "<path stroke=\"#DDDDDD\" stroke-width=\"2\" d=\"M 0,70 1000,70\" />'\n",
       "\n",
       "<path stroke=\"#DDDDDD\" stroke-width=\"2\" d=\"M 0,50 1000,50\" />'\n",
       "\n",
       "<path stroke=\"#DDDDDD\" stroke-width=\"2\" d=\"M 0,30 1000,30\" />'\n",
       "\n",
       "<path stroke=\"#DDDDDD\" stroke-width=\"2\" d=\"M 0,10 1000,10\" />'\n",
       "\n",
       "<path stroke=\"#663399\" stroke-width=\"2\" d=\"M 1000,10\" />'\n",
       "\n",
       "<path stroke=\"#663399\" stroke-width=\"2\" d=\"M 30,30 30,70 10,70\" />'\n",
       "\n",
       "<path stroke=\"#663399\" stroke-width=\"2\" d=\"M 36.7,70\" />'\n",
       "\n",
       "<path stroke=\"#663399\" stroke-width=\"2\" d=\"M 52.7,30 52.7,60\" />'\n",
       "\n",
       "<path stroke=\"#663399\" stroke-width=\"2\" d=\"M 52.7,60 52.5,64.1 51.9,67.3 50.9,69.8 49.8,71.5 48.4,72.7 47,73.2 45.5,73.3 44,73 42.6,72.3 41.4,71.2 40.4,70 39.7,68.6 39.4,67.2 39.4,65.7 40,64.2 41.1,62.9 42.9,61.7 45.4,60.8 48.6,60.2 52.7,60\" />'\n",
       "\n",
       "<path stroke=\"#663399\" stroke-width=\"2\" d=\"M 59.3,70\" />'\n",
       "\n",
       "<path stroke=\"#663399\" stroke-width=\"2\" d=\"M 59.3,30 59.3,70 79.3,70\" />'\n",
       "\n",
       "</svg>"
      ],
      "text/plain": [
       "<IPython.core.display.HTML object>"
      ]
     },
     "metadata": {},
     "output_type": "display_data"
    },
    {
     "name": "stdout",
     "output_type": "stream",
     "text": [
      "y=70\n",
      "y=50\n",
      "y=30\n",
      "y=10\n"
     ]
    }
   ],
   "source": [
    "# %%\n",
    "import importlib\n",
    "\n",
    "from jupyturtle.jupyturtle import Drawing, Turtle\n",
    "\n",
    "import draw\n",
    "import glyphs\n",
    "\n",
    "importlib.reload(glyphs)\n",
    "importlib.reload(draw)\n",
    "# https://github.com/ipython/ipython/issues/12399\n",
    "# reloading draw first, then glyphs results in isinstance checks being broken\n",
    "\n",
    "from draw import (\n",
    "    Page,\n",
    "    advance_after_glyph,\n",
    "    draw_glyph,\n",
    ")\n",
    "from glyphs import (\n",
    "    GlyphSize,\n",
    "    VowelPosition,\n",
    "    characters,\n",
    "    chars_with_curves,\n",
    ")\n",
    "\n",
    "\n",
    "def show_lines(t: Turtle, p: Page) -> None:\n",
    "    c1 = t.pen_color\n",
    "    t.pen_color = \"#DDDDDD\"\n",
    "    for i in range(4):\n",
    "        y = p.current_line_bottom_px - (i * p.vowel_area_height_px)\n",
    "        print(f\"{y=}\")\n",
    "        t.jump_to(y=y, x=0)\n",
    "        t.heading = 0\n",
    "        t.forward(1000)\n",
    "    t.pen_color = c1\n",
    "\n",
    "\n",
    "i = 3\n",
    "for g in characters.values():\n",
    "    drawing = Drawing(width=140, height=80)\n",
    "    p = Page(vowel_area_height_px=20, current_line_bottom_px=70, current_line_left_px=10)\n",
    "    t = Turtle(delay=0.00, drawing=drawing)\n",
    "    show_lines(t, p)\n",
    "    draw_glyph(t, p, characters[\"J\"], pos=VowelPosition.IY, gs=GlyphSize.DOUBLE)\n",
    "    advance_after_glyph(t, p)\n",
    "    draw_glyph(t, p, g, pos=VowelPosition.IY, gs=GlyphSize.DOUBLE)\n",
    "    advance_after_glyph(t, p)\n",
    "    draw_glyph(t, p, characters[\"I\"], pos=VowelPosition.IY, gs=GlyphSize.DOUBLE)\n",
    "    t.hide()"
   ]
  }
 ],
 "metadata": {
  "kernelspec": {
   "display_name": ".venv",
   "language": "python",
   "name": "python3"
  },
  "language_info": {
   "codemirror_mode": {
    "name": "ipython",
    "version": 3
   },
   "file_extension": ".py",
   "mimetype": "text/x-python",
   "name": "python",
   "nbconvert_exporter": "python",
   "pygments_lexer": "ipython3",
   "version": "3.12.9"
  }
 },
 "nbformat": 4,
 "nbformat_minor": 2
}
